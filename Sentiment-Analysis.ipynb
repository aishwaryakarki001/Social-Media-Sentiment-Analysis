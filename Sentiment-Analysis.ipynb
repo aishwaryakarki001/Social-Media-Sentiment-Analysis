{
 "cells": [
  {
   "cell_type": "code",
   "execution_count": 55,
   "metadata": {},
   "outputs": [],
   "source": [
    "import pandas as pd\n",
    "import numpy as np\n",
    "import matplotlib.pyplot as plt\n",
    "import seaborn as sns\n",
    "from wordcloud import WordCloud\n",
    "import re"
   ]
  },
  {
   "cell_type": "code",
   "execution_count": 56,
   "metadata": {},
   "outputs": [],
   "source": [
    "sentiment_df= pd.read_csv(\"./Dataset/sentimentdataset.csv\")"
   ]
  },
  {
   "cell_type": "code",
   "execution_count": 57,
   "metadata": {},
   "outputs": [
    {
     "data": {
      "text/plain": [
       "(732, 15)"
      ]
     },
     "execution_count": 57,
     "metadata": {},
     "output_type": "execute_result"
    }
   ],
   "source": [
    "sentiment_df.shape"
   ]
  },
  {
   "cell_type": "code",
   "execution_count": 58,
   "metadata": {},
   "outputs": [
    {
     "data": {
      "text/html": [
       "<div>\n",
       "<style scoped>\n",
       "    .dataframe tbody tr th:only-of-type {\n",
       "        vertical-align: middle;\n",
       "    }\n",
       "\n",
       "    .dataframe tbody tr th {\n",
       "        vertical-align: top;\n",
       "    }\n",
       "\n",
       "    .dataframe thead th {\n",
       "        text-align: right;\n",
       "    }\n",
       "</style>\n",
       "<table border=\"1\" class=\"dataframe\">\n",
       "  <thead>\n",
       "    <tr style=\"text-align: right;\">\n",
       "      <th></th>\n",
       "      <th>Unnamed: 0.1</th>\n",
       "      <th>Unnamed: 0</th>\n",
       "      <th>Text</th>\n",
       "      <th>Sentiment</th>\n",
       "      <th>Timestamp</th>\n",
       "      <th>User</th>\n",
       "      <th>Platform</th>\n",
       "      <th>Hashtags</th>\n",
       "      <th>Retweets</th>\n",
       "      <th>Likes</th>\n",
       "      <th>Country</th>\n",
       "      <th>Year</th>\n",
       "      <th>Month</th>\n",
       "      <th>Day</th>\n",
       "      <th>Hour</th>\n",
       "    </tr>\n",
       "  </thead>\n",
       "  <tbody>\n",
       "    <tr>\n",
       "      <th>0</th>\n",
       "      <td>0</td>\n",
       "      <td>0</td>\n",
       "      <td>Enjoying a beautiful day at the park!        ...</td>\n",
       "      <td>Positive</td>\n",
       "      <td>2023-01-15 12:30:00</td>\n",
       "      <td>User123</td>\n",
       "      <td>Twitter</td>\n",
       "      <td>#Nature #Park</td>\n",
       "      <td>15.0</td>\n",
       "      <td>30.0</td>\n",
       "      <td>USA</td>\n",
       "      <td>2023</td>\n",
       "      <td>1</td>\n",
       "      <td>15</td>\n",
       "      <td>12</td>\n",
       "    </tr>\n",
       "    <tr>\n",
       "      <th>1</th>\n",
       "      <td>1</td>\n",
       "      <td>1</td>\n",
       "      <td>Traffic was terrible this morning.           ...</td>\n",
       "      <td>Negative</td>\n",
       "      <td>2023-01-15 08:45:00</td>\n",
       "      <td>CommuterX</td>\n",
       "      <td>Twitter</td>\n",
       "      <td>#Traffic #Morning</td>\n",
       "      <td>5.0</td>\n",
       "      <td>10.0</td>\n",
       "      <td>Canada</td>\n",
       "      <td>2023</td>\n",
       "      <td>1</td>\n",
       "      <td>15</td>\n",
       "      <td>8</td>\n",
       "    </tr>\n",
       "    <tr>\n",
       "      <th>2</th>\n",
       "      <td>2</td>\n",
       "      <td>2</td>\n",
       "      <td>Just finished an amazing workout! 💪          ...</td>\n",
       "      <td>Positive</td>\n",
       "      <td>2023-01-15 15:45:00</td>\n",
       "      <td>FitnessFan</td>\n",
       "      <td>Instagram</td>\n",
       "      <td>#Fitness #Workout</td>\n",
       "      <td>20.0</td>\n",
       "      <td>40.0</td>\n",
       "      <td>USA</td>\n",
       "      <td>2023</td>\n",
       "      <td>1</td>\n",
       "      <td>15</td>\n",
       "      <td>15</td>\n",
       "    </tr>\n",
       "    <tr>\n",
       "      <th>3</th>\n",
       "      <td>3</td>\n",
       "      <td>3</td>\n",
       "      <td>Excited about the upcoming weekend getaway!  ...</td>\n",
       "      <td>Positive</td>\n",
       "      <td>2023-01-15 18:20:00</td>\n",
       "      <td>AdventureX</td>\n",
       "      <td>Facebook</td>\n",
       "      <td>#Travel #Adventure</td>\n",
       "      <td>8.0</td>\n",
       "      <td>15.0</td>\n",
       "      <td>UK</td>\n",
       "      <td>2023</td>\n",
       "      <td>1</td>\n",
       "      <td>15</td>\n",
       "      <td>18</td>\n",
       "    </tr>\n",
       "    <tr>\n",
       "      <th>4</th>\n",
       "      <td>4</td>\n",
       "      <td>4</td>\n",
       "      <td>Trying out a new recipe for dinner tonight.  ...</td>\n",
       "      <td>Neutral</td>\n",
       "      <td>2023-01-15 19:55:00</td>\n",
       "      <td>ChefCook</td>\n",
       "      <td>Instagram</td>\n",
       "      <td>#Cooking #Food</td>\n",
       "      <td>12.0</td>\n",
       "      <td>25.0</td>\n",
       "      <td>Australia</td>\n",
       "      <td>2023</td>\n",
       "      <td>1</td>\n",
       "      <td>15</td>\n",
       "      <td>19</td>\n",
       "    </tr>\n",
       "  </tbody>\n",
       "</table>\n",
       "</div>"
      ],
      "text/plain": [
       "   Unnamed: 0.1  Unnamed: 0  \\\n",
       "0             0           0   \n",
       "1             1           1   \n",
       "2             2           2   \n",
       "3             3           3   \n",
       "4             4           4   \n",
       "\n",
       "                                                Text    Sentiment  \\\n",
       "0   Enjoying a beautiful day at the park!        ...   Positive     \n",
       "1   Traffic was terrible this morning.           ...   Negative     \n",
       "2   Just finished an amazing workout! 💪          ...   Positive     \n",
       "3   Excited about the upcoming weekend getaway!  ...   Positive     \n",
       "4   Trying out a new recipe for dinner tonight.  ...   Neutral      \n",
       "\n",
       "             Timestamp            User     Platform  \\\n",
       "0  2023-01-15 12:30:00   User123          Twitter     \n",
       "1  2023-01-15 08:45:00   CommuterX        Twitter     \n",
       "2  2023-01-15 15:45:00   FitnessFan      Instagram    \n",
       "3  2023-01-15 18:20:00   AdventureX       Facebook    \n",
       "4  2023-01-15 19:55:00   ChefCook        Instagram    \n",
       "\n",
       "                                     Hashtags  Retweets  Likes       Country  \\\n",
       "0   #Nature #Park                                  15.0   30.0     USA         \n",
       "1   #Traffic #Morning                               5.0   10.0     Canada      \n",
       "2   #Fitness #Workout                              20.0   40.0   USA           \n",
       "3   #Travel #Adventure                              8.0   15.0     UK          \n",
       "4   #Cooking #Food                                 12.0   25.0    Australia    \n",
       "\n",
       "   Year  Month  Day  Hour  \n",
       "0  2023      1   15    12  \n",
       "1  2023      1   15     8  \n",
       "2  2023      1   15    15  \n",
       "3  2023      1   15    18  \n",
       "4  2023      1   15    19  "
      ]
     },
     "execution_count": 58,
     "metadata": {},
     "output_type": "execute_result"
    }
   ],
   "source": [
    "sentiment_df.head()"
   ]
  },
  {
   "cell_type": "code",
   "execution_count": 59,
   "metadata": {},
   "outputs": [
    {
     "data": {
      "text/html": [
       "<div>\n",
       "<style scoped>\n",
       "    .dataframe tbody tr th:only-of-type {\n",
       "        vertical-align: middle;\n",
       "    }\n",
       "\n",
       "    .dataframe tbody tr th {\n",
       "        vertical-align: top;\n",
       "    }\n",
       "\n",
       "    .dataframe thead th {\n",
       "        text-align: right;\n",
       "    }\n",
       "</style>\n",
       "<table border=\"1\" class=\"dataframe\">\n",
       "  <thead>\n",
       "    <tr style=\"text-align: right;\">\n",
       "      <th></th>\n",
       "      <th>Unnamed: 0.1</th>\n",
       "      <th>Unnamed: 0</th>\n",
       "      <th>Retweets</th>\n",
       "      <th>Likes</th>\n",
       "      <th>Year</th>\n",
       "      <th>Month</th>\n",
       "      <th>Day</th>\n",
       "      <th>Hour</th>\n",
       "    </tr>\n",
       "  </thead>\n",
       "  <tbody>\n",
       "    <tr>\n",
       "      <th>count</th>\n",
       "      <td>732.000000</td>\n",
       "      <td>732.000000</td>\n",
       "      <td>732.000000</td>\n",
       "      <td>732.000000</td>\n",
       "      <td>732.000000</td>\n",
       "      <td>732.000000</td>\n",
       "      <td>732.000000</td>\n",
       "      <td>732.000000</td>\n",
       "    </tr>\n",
       "    <tr>\n",
       "      <th>mean</th>\n",
       "      <td>366.464481</td>\n",
       "      <td>369.740437</td>\n",
       "      <td>21.508197</td>\n",
       "      <td>42.901639</td>\n",
       "      <td>2020.471311</td>\n",
       "      <td>6.122951</td>\n",
       "      <td>15.497268</td>\n",
       "      <td>15.521858</td>\n",
       "    </tr>\n",
       "    <tr>\n",
       "      <th>std</th>\n",
       "      <td>211.513936</td>\n",
       "      <td>212.428936</td>\n",
       "      <td>7.061286</td>\n",
       "      <td>14.089848</td>\n",
       "      <td>2.802285</td>\n",
       "      <td>3.411763</td>\n",
       "      <td>8.474553</td>\n",
       "      <td>4.113414</td>\n",
       "    </tr>\n",
       "    <tr>\n",
       "      <th>min</th>\n",
       "      <td>0.000000</td>\n",
       "      <td>0.000000</td>\n",
       "      <td>5.000000</td>\n",
       "      <td>10.000000</td>\n",
       "      <td>2010.000000</td>\n",
       "      <td>1.000000</td>\n",
       "      <td>1.000000</td>\n",
       "      <td>0.000000</td>\n",
       "    </tr>\n",
       "    <tr>\n",
       "      <th>25%</th>\n",
       "      <td>183.750000</td>\n",
       "      <td>185.750000</td>\n",
       "      <td>17.750000</td>\n",
       "      <td>34.750000</td>\n",
       "      <td>2019.000000</td>\n",
       "      <td>3.000000</td>\n",
       "      <td>9.000000</td>\n",
       "      <td>13.000000</td>\n",
       "    </tr>\n",
       "    <tr>\n",
       "      <th>50%</th>\n",
       "      <td>366.500000</td>\n",
       "      <td>370.500000</td>\n",
       "      <td>22.000000</td>\n",
       "      <td>43.000000</td>\n",
       "      <td>2021.000000</td>\n",
       "      <td>6.000000</td>\n",
       "      <td>15.000000</td>\n",
       "      <td>16.000000</td>\n",
       "    </tr>\n",
       "    <tr>\n",
       "      <th>75%</th>\n",
       "      <td>549.250000</td>\n",
       "      <td>553.250000</td>\n",
       "      <td>25.000000</td>\n",
       "      <td>50.000000</td>\n",
       "      <td>2023.000000</td>\n",
       "      <td>9.000000</td>\n",
       "      <td>22.000000</td>\n",
       "      <td>19.000000</td>\n",
       "    </tr>\n",
       "    <tr>\n",
       "      <th>max</th>\n",
       "      <td>732.000000</td>\n",
       "      <td>736.000000</td>\n",
       "      <td>40.000000</td>\n",
       "      <td>80.000000</td>\n",
       "      <td>2023.000000</td>\n",
       "      <td>12.000000</td>\n",
       "      <td>31.000000</td>\n",
       "      <td>23.000000</td>\n",
       "    </tr>\n",
       "  </tbody>\n",
       "</table>\n",
       "</div>"
      ],
      "text/plain": [
       "       Unnamed: 0.1  Unnamed: 0    Retweets       Likes         Year  \\\n",
       "count    732.000000  732.000000  732.000000  732.000000   732.000000   \n",
       "mean     366.464481  369.740437   21.508197   42.901639  2020.471311   \n",
       "std      211.513936  212.428936    7.061286   14.089848     2.802285   \n",
       "min        0.000000    0.000000    5.000000   10.000000  2010.000000   \n",
       "25%      183.750000  185.750000   17.750000   34.750000  2019.000000   \n",
       "50%      366.500000  370.500000   22.000000   43.000000  2021.000000   \n",
       "75%      549.250000  553.250000   25.000000   50.000000  2023.000000   \n",
       "max      732.000000  736.000000   40.000000   80.000000  2023.000000   \n",
       "\n",
       "            Month         Day        Hour  \n",
       "count  732.000000  732.000000  732.000000  \n",
       "mean     6.122951   15.497268   15.521858  \n",
       "std      3.411763    8.474553    4.113414  \n",
       "min      1.000000    1.000000    0.000000  \n",
       "25%      3.000000    9.000000   13.000000  \n",
       "50%      6.000000   15.000000   16.000000  \n",
       "75%      9.000000   22.000000   19.000000  \n",
       "max     12.000000   31.000000   23.000000  "
      ]
     },
     "execution_count": 59,
     "metadata": {},
     "output_type": "execute_result"
    }
   ],
   "source": [
    "sentiment_df.describe()"
   ]
  },
  {
   "cell_type": "code",
   "execution_count": 60,
   "metadata": {},
   "outputs": [
    {
     "name": "stdout",
     "output_type": "stream",
     "text": [
      "<class 'pandas.core.frame.DataFrame'>\n",
      "RangeIndex: 732 entries, 0 to 731\n",
      "Data columns (total 15 columns):\n",
      " #   Column        Non-Null Count  Dtype  \n",
      "---  ------        --------------  -----  \n",
      " 0   Unnamed: 0.1  732 non-null    int64  \n",
      " 1   Unnamed: 0    732 non-null    int64  \n",
      " 2   Text          732 non-null    object \n",
      " 3   Sentiment     732 non-null    object \n",
      " 4   Timestamp     732 non-null    object \n",
      " 5   User          732 non-null    object \n",
      " 6   Platform      732 non-null    object \n",
      " 7   Hashtags      732 non-null    object \n",
      " 8   Retweets      732 non-null    float64\n",
      " 9   Likes         732 non-null    float64\n",
      " 10  Country       732 non-null    object \n",
      " 11  Year          732 non-null    int64  \n",
      " 12  Month         732 non-null    int64  \n",
      " 13  Day           732 non-null    int64  \n",
      " 14  Hour          732 non-null    int64  \n",
      "dtypes: float64(2), int64(6), object(7)\n",
      "memory usage: 85.9+ KB\n"
     ]
    }
   ],
   "source": [
    "sentiment_df.info()"
   ]
  },
  {
   "cell_type": "code",
   "execution_count": 61,
   "metadata": {},
   "outputs": [
    {
     "data": {
      "text/plain": [
       "Unnamed: 0.1    0\n",
       "Unnamed: 0      0\n",
       "Text            0\n",
       "Sentiment       0\n",
       "Timestamp       0\n",
       "User            0\n",
       "Platform        0\n",
       "Hashtags        0\n",
       "Retweets        0\n",
       "Likes           0\n",
       "Country         0\n",
       "Year            0\n",
       "Month           0\n",
       "Day             0\n",
       "Hour            0\n",
       "dtype: int64"
      ]
     },
     "execution_count": 61,
     "metadata": {},
     "output_type": "execute_result"
    }
   ],
   "source": [
    "sentiment_df.isna().sum()"
   ]
  },
  {
   "cell_type": "code",
   "execution_count": 62,
   "metadata": {},
   "outputs": [
    {
     "data": {
      "text/plain": [
       "np.False_"
      ]
     },
     "execution_count": 62,
     "metadata": {},
     "output_type": "execute_result"
    }
   ],
   "source": [
    "sentiment_df.duplicated().any()"
   ]
  },
  {
   "cell_type": "markdown",
   "metadata": {},
   "source": [
    "EDA"
   ]
  },
  {
   "cell_type": "code",
   "execution_count": 63,
   "metadata": {},
   "outputs": [
    {
     "data": {
      "text/plain": [
       "array([' Positive  ', ' Negative  ', ' Neutral   ', ' Anger        ',\n",
       "       ' Fear         ', ' Sadness      ', ' Disgust      ',\n",
       "       ' Happiness    ', ' Joy          ', ' Love         ',\n",
       "       ' Amusement    ', ' Enjoyment    ', ' Admiration   ',\n",
       "       ' Affection    ', ' Awe          ', ' Disappointed ',\n",
       "       ' Surprise     ', ' Acceptance   ', ' Adoration    ',\n",
       "       ' Anticipation ', ' Bitter       ', ' Calmness     ',\n",
       "       ' Confusion    ', ' Excitement   ', ' Kind         ',\n",
       "       ' Pride        ', ' Shame        ', ' Confusion ', ' Excitement ',\n",
       "       ' Shame ', ' Elation       ', ' Euphoria      ', ' Contentment   ',\n",
       "       ' Serenity      ', ' Gratitude     ', ' Hope          ',\n",
       "       ' Empowerment   ', ' Compassion    ', ' Tenderness    ',\n",
       "       ' Arousal       ', ' Enthusiasm    ', ' Fulfillment  ',\n",
       "       ' Reverence     ', ' Compassion', ' Fulfillment   ', ' Reverence ',\n",
       "       ' Elation   ', ' Despair         ', ' Grief           ',\n",
       "       ' Loneliness      ', ' Jealousy        ', ' Resentment      ',\n",
       "       ' Frustration     ', ' Boredom         ', ' Anxiety         ',\n",
       "       ' Intimidation    ', ' Helplessness    ', ' Envy            ',\n",
       "       ' Regret         ', ' Disgust         ', ' Despair      ',\n",
       "       ' Loneliness ', ' Frustration ', ' Anxiety   ', ' Intimidation ',\n",
       "       ' Helplessness ', ' Jealousy    ', ' Curiosity       ',\n",
       "       ' Indifference    ', ' Confusion       ', ' Numbness        ',\n",
       "       ' Melancholy      ', ' Nostalgia       ', ' Ambivalence     ',\n",
       "       ' Acceptance      ', ' Determination   ', ' Serenity        ',\n",
       "       ' Numbness ', ' Zest ', ' Contentment ', ' Hopeful ', ' Proud ',\n",
       "       ' Grateful ', ' Empathetic ', ' Compassionate ', ' Playful ',\n",
       "       ' Free-spirited ', ' Inspired ', ' Confident ', ' Serenity ',\n",
       "       ' Curiosity ', ' Ambivalence ', ' Despair ', ' Bitterness ',\n",
       "       ' Yearning ', ' Fearful ', ' Apprehensive ', ' Overwhelmed ',\n",
       "       ' Jealous ', ' Devastated ', ' Frustrated ', ' Envious ',\n",
       "       ' Dismissive ', ' Awe           ', ' Determination ',\n",
       "       ' Nostalgia      ', ' Thrill        ', ' Calmness      ',\n",
       "       ' Overwhelmed   ', ' Gratitude   ', ' Bittersweet ',\n",
       "       ' Curiosity     ', ' Admiration    ', ' Overjoyed     ',\n",
       "       ' Inspiration   ', ' Motivation    ', ' Amusement     ',\n",
       "       ' Contemplation ', ' JoyfulReunion ', ' Excitement    ',\n",
       "       ' Satisfaction  ', ' Blessed       ', ' Anticipation  ',\n",
       "       ' Reflection    ', ' Nostalgia     ', ' Appreciation  ',\n",
       "       ' Confidence    ', ' Surprise      ', ' Accomplishment ',\n",
       "       ' Wonderment    ', ' Optimism      ', ' Pride         ',\n",
       "       ' Happiness     ', ' Curiosity   ', ' Enchantment   ',\n",
       "       ' Intrigue      ', ' PlayfulJoy    ', ' Mindfulness   ',\n",
       "       ' DreamChaser   ', ' Elegance ', ' Whimsy        ', ' Pensive ',\n",
       "       ' Thrill      ', ' Harmony    ', ' Creativity   ', ' Radiance    ',\n",
       "       ' Wonder     ', ' Rejuvenation ', ' Inspiration ',\n",
       "       ' Coziness     ', ' Gratitude  ', ' Adventure ', ' Euphoria   ',\n",
       "       ' Awe    ', ' Melodic       ', ' FestiveJoy    ',\n",
       "       ' InnerJourney  ', ' Freedom       ', ' Dazzle        ',\n",
       "       ' Adrenaline     ', ' Harmony       ', ' ArtisticBurst ',\n",
       "       ' Radiance      ', ' Wonder       ', ' Inspiration  ',\n",
       "       ' CulinaryOdyssey ', ' Euphoria     ', ' Curiosity  ',\n",
       "       ' Resilience   ', ' Immersion ', ' Nostalgia ', ' Spark        ',\n",
       "       ' Gratitude    ', ' Marvel       ', ' Serenity   ',\n",
       "       ' Heartbreak    ', ' Loneliness    ', ' Grief      ',\n",
       "       ' Despair   ', ' Betrayal      ', ' Suffering ',\n",
       "       ' EmotionalStorm ', ' Regret        ', ' Isolation ',\n",
       "       ' Disappointment ', ' LostLove ', ' Melancholy ', ' Exhaustion ',\n",
       "       ' Sorrow      ', ' Darkness     ', ' Desperation ', ' Ruins      ',\n",
       "       ' Desolation ', ' Regret ', ' Grief ', ' Heartbreak ',\n",
       "       ' Betrayal ', ' Resilience ', ' Sorrow ', ' Loss ', ' Heartache ',\n",
       "       ' Solitude ', ' Joy ', ' Happiness ', ' Enthusiasm ',\n",
       "       ' Gratitude ', ' Positivity ', ' Kindness ', ' Friendship ',\n",
       "       ' Love ', ' Surprise ', ' Success ', ' Thrill ', ' Reflection ',\n",
       "       ' Enchantment ', ' Exploration ', ' Awe ', ' Amazement ',\n",
       "       ' Romance ', ' Captivation ', ' Wonder ', ' Tranquility ',\n",
       "       ' Grandeur ', ' Emotion ', ' Energy ', ' Celebration ', ' Charm ',\n",
       "       ' Ecstasy ', ' Hope ', ' Creativity ', ' Colorful ', ' Pride ',\n",
       "       ' Hypnotic ', ' Connection ', ' Iconic ', ' Euphoria ',\n",
       "       ' Journey ', ' Engagement ', ' Touched ', ' Suspense ',\n",
       "       ' Satisfaction ', ' Admiration ', ' Triumph ', ' Heartwarming ',\n",
       "       ' Obstacle ', ' Sympathy ', ' Pressure ', ' Renewed Effort ',\n",
       "       ' Miscalculation ', ' Challenge ', ' Solace ', ' Breakthrough ',\n",
       "       ' Harmony ', ' Joy in Baking ', ' Envisioning History ',\n",
       "       ' Imagination ', ' Vibrancy ', ' Mesmerizing ',\n",
       "       ' Culinary Adventure ', ' Winter Magic ', ' Thrilling Journey ',\n",
       "       \" Nature's Beauty \", ' Celestial Wonder ',\n",
       "       ' Creative Inspiration ', ' Runway Creativity ',\n",
       "       \" Ocean's Freedom \", ' Whispers of the Past ', ' Boredom ',\n",
       "       ' Indifference ', ' Disgust ', ' Relief ', ' Positive ',\n",
       "       ' Embarrassed ', ' Mischievous ', ' Sad ', ' Hate ', ' Bad ',\n",
       "       ' Neutral ', ' Happy '], dtype=object)"
      ]
     },
     "execution_count": 63,
     "metadata": {},
     "output_type": "execute_result"
    }
   ],
   "source": [
    "sentiment_df['Sentiment'].unique()"
   ]
  },
  {
   "cell_type": "code",
   "execution_count": 64,
   "metadata": {},
   "outputs": [
    {
     "data": {
      "text/plain": [
       "Sentiment\n",
       "Positive           44\n",
       "Joy                42\n",
       "Excitement         32\n",
       "Neutral            14\n",
       "Contentment        14\n",
       "                   ..\n",
       "Adrenaline          1\n",
       "Harmony             1\n",
       "ArtisticBurst       1\n",
       "Radiance            1\n",
       "Elegance            1\n",
       "Name: count, Length: 279, dtype: int64"
      ]
     },
     "execution_count": 64,
     "metadata": {},
     "output_type": "execute_result"
    }
   ],
   "source": [
    "sentiment_df['Sentiment'].value_counts()"
   ]
  },
  {
   "cell_type": "code",
   "execution_count": 65,
   "metadata": {},
   "outputs": [
    {
     "data": {
      "text/plain": [
       "<Axes: xlabel='Sentiment'>"
      ]
     },
     "execution_count": 65,
     "metadata": {},
     "output_type": "execute_result"
    },
    {
     "data": {
      "image/png": "[encoded data removed]",
      "text/plain": [
       "<Figure size 640x480 with 1 Axes>"
      ]
     },
     "metadata": {},
     "output_type": "display_data"
    }
   ],
   "source": [
    "sentiment_df['Sentiment'].value_counts().nlargest(10).plot(kind='bar')"
   ]
  },
  {
   "cell_type": "code",
   "execution_count": 66,
   "metadata": {},
   "outputs": [
    {
     "data": {
      "text/plain": [
       "Platform\n",
       "Instagram     258\n",
       "Facebook      231\n",
       "Twitter       128\n",
       "Twitter       115\n",
       "Name: count, dtype: int64"
      ]
     },
     "execution_count": 66,
     "metadata": {},
     "output_type": "execute_result"
    }
   ],
   "source": [
    "sentiment_df['Platform'].value_counts()"
   ]
  },
  {
   "cell_type": "code",
   "execution_count": 67,
   "metadata": {},
   "outputs": [],
   "source": [
    "sentiment_df['Platform'] = sentiment_df['Platform'].str.strip()"
   ]
  },
  {
   "cell_type": "code",
   "execution_count": 68,
   "metadata": {},
   "outputs": [
    {
     "data": {
      "text/plain": [
       "Platform\n",
       "Instagram    258\n",
       "Twitter      243\n",
       "Facebook     231\n",
       "Name: count, dtype: int64"
      ]
     },
     "execution_count": 68,
     "metadata": {},
     "output_type": "execute_result"
    }
   ],
   "source": [
    "sentiment_df['Platform'].value_counts()"
   ]
  },
  {
   "cell_type": "code",
   "execution_count": 69,
   "metadata": {},
   "outputs": [
    {
     "data": {
      "image/png": "[encoded data removed]",
      "text/plain": [
       "<Figure size 640x480 with 1 Axes>"
      ]
     },
     "metadata": {},
     "output_type": "display_data"
    }
   ],
   "source": [
    "sentiment_df['Platform'].value_counts().plot(kind='pie', autopct='%1.1f%%')\n",
    "plt.title('Percentage of Platforms')\n",
    "plt.legend()\n",
    "plt.show()"
   ]
  },
  {
   "cell_type": "code",
   "execution_count": 70,
   "metadata": {},
   "outputs": [
    {
     "data": {
      "text/plain": [
       "Country\n",
       "USA               59\n",
       "USA               55\n",
       "UK                49\n",
       "Canada            44\n",
       "Australia         41\n",
       "                  ..\n",
       "Netherlands        1\n",
       "USA                1\n",
       "Germany            1\n",
       "France             1\n",
       "USA                1\n",
       "Name: count, Length: 115, dtype: int64"
      ]
     },
     "execution_count": 70,
     "metadata": {},
     "output_type": "execute_result"
    }
   ],
   "source": [
    "sentiment_df['Country'].value_counts()"
   ]
  },
  {
   "cell_type": "code",
   "execution_count": 80,
   "metadata": {},
   "outputs": [
    {
     "data": {
      "text/plain": [
       "33"
      ]
     },
     "execution_count": 80,
     "metadata": {},
     "output_type": "execute_result"
    }
   ],
   "source": [
    "sentiment_df['Country'].nunique()"
   ]
  },
  {
   "cell_type": "code",
   "execution_count": 75,
   "metadata": {},
   "outputs": [],
   "source": [
    "sentiment_df['Country'] = sentiment_df['Country'].str.strip()"
   ]
  },
  {
   "cell_type": "code",
   "execution_count": 92,
   "metadata": {},
   "outputs": [
    {
     "data": {
      "text/plain": [
       "Country\n",
       "USA               188\n",
       "UK                143\n",
       "Canada            135\n",
       "Australia          75\n",
       "India              70\n",
       "Brazil             17\n",
       "France             16\n",
       "Japan              15\n",
       "Germany            14\n",
       "Italy              11\n",
       "Spain               6\n",
       "South Africa        6\n",
       "Greece              5\n",
       "Netherlands         4\n",
       "Switzerland         3\n",
       "Portugal            2\n",
       "Austria             2\n",
       "Belgium             2\n",
       "Denmark             2\n",
       "Czech Republic      2\n",
       "Sweden              2\n",
       "Colombia            1\n",
       "Scotland            1\n",
       "Kenya               1\n",
       "Jamaica             1\n",
       "Ireland             1\n",
       "China               1\n",
       "Norway              1\n",
       "Cambodia            1\n",
       "Maldives            1\n",
       "Peru                1\n",
       "Jordan              1\n",
       "Thailand            1\n",
       "Name: count, dtype: int64"
      ]
     },
     "execution_count": 92,
     "metadata": {},
     "output_type": "execute_result"
    }
   ],
   "source": [
    "sentiment_df['Country'].value_counts()"
   ]
  },
  {
   "cell_type": "code",
   "execution_count": 87,
   "metadata": {},
   "outputs": [
    {
     "data": {
      "text/plain": [
       "<Axes: xlabel='Country'>"
      ]
     },
     "execution_count": 87,
     "metadata": {},
     "output_type": "execute_result"
    },
    {
     "data": {
      "image/png": "[encoded data removed]",
      "text/plain": [
       "<Figure size 640x480 with 1 Axes>"
      ]
     },
     "metadata": {},
     "output_type": "display_data"
    }
   ],
   "source": [
    "sentiment_df['Country'].value_counts().nlargest(33).plot(kind='bar')"
   ]
  },
  {
   "cell_type": "code",
   "execution_count": null,
   "metadata": {},
   "outputs": [],
   "source": [
    "ttt"
   ]
  }
 ],
 "metadata": {
  "kernelspec": {
   "display_name": "Python 3",
   "language": "python",
   "name": "python3"
  },
  "language_info": {
   "codemirror_mode": {
    "name": "ipython",
    "version": 3
   },
   "file_extension": ".py",
   "mimetype": "text/x-python",
   "name": "python",
   "nbconvert_exporter": "python",
   "pygments_lexer": "ipython3",
   "version": "3.9.6"
  }
 },
 "nbformat": 4,
 "nbformat_minor": 2
}
